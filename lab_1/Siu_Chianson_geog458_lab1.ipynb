{
 "cells": [
  {
   "cell_type": "markdown",
   "metadata": {},
   "source": [
    "# Chianson Siu\n",
    "This script reads in a Washington census shapefile and for each county in Washington, creates a GeoJSON file whose filename is the county name and whose contents are the polygons for the block groups within that county. Additionally, the population for each county in 2017 is analyzed and the top ten highest populated counties are printed in descending order.\n",
    "## Timeline\n",
    "This script was finished on 2/2/2018 and took roughly 10 hours to write."
   ]
  },
  {
   "cell_type": "code",
   "execution_count": 76,
   "metadata": {},
   "outputs": [],
   "source": [
    "# import system paths and append directories to the ArcGIS loaction on local computer\n",
    "import sys\n",
    "import os\n",
    "sys.path.append('C:\\\\Program Files (x86)\\\\ArcGIS\\\\Desktop10.5\\\\bin')\n",
    "sys.path.append('C:\\\\Program Files (x86)\\\\ArcGIS\\\\Desktop10.5\\\\arcpy')\n",
    "sys.path.append('C:\\\\Program Files (x86)\\\\ArcGIS\\\\Desktop10.5\\\\ArcToolbox\\\\Scripts')\n",
    "\n",
    "# import arcpy package and set the working directory\n",
    "import arcpy\n",
    "workspace = \"C:\\\\Users\\\\cjms2\\\\geog458\\\\lab_1\\\\urban_rural_ass\\\\\"\n",
    "arcpy.env.workspace = workspace\n",
    "\n",
    "# set environment for Geo4W64 to create geoJson later\n",
    "from subprocess import call\n",
    "os.environ[\"GDAL_DATA\"] = \"C:\\\\OSGeo4W64\\\\share\\\\gdal\"\n",
    "os.environ[\"GDAL_DRIVER_PATH\"] = \"C:\\\\OSGeo4W64\\\\bin\\\\gdalplugins\"\n",
    "os.environ[\"PROJ_LIB\"] = \"C:\\\\OSGeo4W64\\\\share\\\\proj\"\n",
    "os.environ[\"PATH\"] = \"C:\\\\OSGeo4W64\\\\bin;\"+os.environ[\"PATH\"]+\";C:\\\\OSGeo4W64\\\\apps\\\\msys\\\\bin;C:\\\\OSGeo4W64\\\\apps\\\\Python27\\\\Scripts\"\n"
   ]
  },
  {
   "cell_type": "markdown",
   "metadata": {},
   "source": [
    "## 1. Creating GeoJson Files for each County in Washington"
   ]
  },
  {
   "cell_type": "code",
   "execution_count": 77,
   "metadata": {},
   "outputs": [],
   "source": [
    "washTable = \"WashingtonFIPS.dbf\" # Washington county codes table\n",
    "censusShapeF = \"saep_bg10\\\\saep_bg10.shp\" # Washington census table"
   ]
  },
  {
   "cell_type": "code",
   "execution_count": 67,
   "metadata": {},
   "outputs": [
    {
     "data": {
      "text/plain": [
       "<Result 'C:\\\\Users\\\\cjms2\\\\geog458\\\\lab_1\\\\urban_rural_ass\\\\saep_bg10\\\\saep_bg10.shp'>"
      ]
     },
     "execution_count": 67,
     "metadata": {},
     "output_type": "execute_result"
    }
   ],
   "source": [
    "# sptial many-to-one table join. Census table is the destination and washington codes table is the input\n",
    "# the tables are joined on the \"FIPSCounty\" attribute, adding a \"CountyName\" attribute to the\n",
    "# destination table\n",
    "arcpy.JoinField_management(censusShapeF,\"COUNTYFP10\",washTable,\"FIPSCounty\")"
   ]
  },
  {
   "cell_type": "code",
   "execution_count": 78,
   "metadata": {},
   "outputs": [],
   "source": [
    "allCountyNames = [] # create empty list to hold all county names as strings\n",
    "cursor = arcpy.da.SearchCursor(washTable, \"CountyName\") # search the WA codes table\n",
    "\n",
    "# create a list based on values in the CountyName column of the washington codes table\n",
    "for row in cursor:\n",
    "    allCountyNames.append(str(row[0])) # append all county names to the list holding all counties as strings\n",
    "del cursor"
   ]
  },
  {
   "cell_type": "code",
   "execution_count": 80,
   "metadata": {},
   "outputs": [],
   "source": [
    "# get the spatial reference system of the census shapefile\n",
    "censusSr = arcpy.Describe(censusShapeF).spatialReference\n",
    "\n",
    "# get the geometry type of the census shapefile\n",
    "censusGeometry = arcpy.Describe(censusShapeF).shapeType\n",
    "\n",
    "# setting optional parameters of the create feature class management function using\n",
    "# the original census shapefile as a template\n",
    "geometry_type = censusGeometry\n",
    "template = censusShapeF\n",
    "has_m = \"SAME_AS_TEMPLATE\"\n",
    "has_z = \"SAME_AS_TEMPLATE\"\n",
    "spatial_reference = censusSr"
   ]
  },
  {
   "cell_type": "code",
   "execution_count": 81,
   "metadata": {},
   "outputs": [],
   "source": [
    "# intialize list that will hold all insert cursors for each county\n",
    "# insert cursors created in advance to save computation time\n",
    "# when populating future shapefiles\n",
    "insertCursors = []\n",
    "\n",
    "# for each county, create a folder subdirectory with the county as the folder name.\n",
    "# Then create a new shape file within each subdirectory named after the county\n",
    "for countyName in allCountyNames: \n",
    "    dirResult = workspace + \"result\\\\\" + countyName # paths for each county folder\n",
    "    dirShape = dirResult + \"\\\\\" + countyName + \".shp\" # paths for each county shapefile\n",
    "    \n",
    "    if not os.path.exists (dirShape): # check if shapefile exists\n",
    "        os.makedirs(dirResult) # make new path (folder) for each county if it does not exist\n",
    "        # create a new feature class for each county using the census shape file as a template\n",
    "        arcpy.CreateFeatureclass_management(dirResult,\n",
    "                                            countyName + \".shp\",\n",
    "                                            geometry_type,\n",
    "                                            template,\n",
    "                                            has_m,\n",
    "                                            has_z,\n",
    "                                            spatial_reference)     \n",
    "    # create and store new insert cursor for each county\n",
    "    insertCursors.append(arcpy.da.InsertCursor(dirShape, [\"SHAPE@\",\"*\"])) \n"
   ]
  },
  {
   "cell_type": "code",
   "execution_count": 82,
   "metadata": {},
   "outputs": [],
   "source": [
    "# get the fields of the census table to find index of the CountyName attribute\n",
    "censusFields = [f.name for f in arcpy.ListFields(censusShapeF)]\n",
    "\n",
    "# get index of the CountyName attribute in census table\n",
    "countyIndex = censusFields.index(\"CountyName\")\n",
    "\n",
    "# cursor to search through the census table\n",
    "countySearch = arcpy.da.SearchCursor(censusShapeF,[\"Shape@\",\"*\"])\n",
    "\n",
    "# inserts each row in the census table into their corresponding county shapefile\n",
    "for row in countySearch:\n",
    "    # searches for the index of county names in county list and uses it\n",
    "    # to reference the correct insert cursor stored in the insertCursors list\n",
    "    insertCursors[allCountyNames.index(row[countyIndex + 1])].insertRow(row)\n",
    "del countySearch\n",
    "del insertCursors[:] # deletes all insert cursors"
   ]
  },
  {
   "cell_type": "code",
   "execution_count": 84,
   "metadata": {},
   "outputs": [],
   "source": [
    "# get the spatial reference system EPSG code for the census shapefile\n",
    "censusSrCode = censusSr.factoryCode\n",
    "\n",
    "# create and set a folder for the GeoJson files if it does not already exist\n",
    "geoJsonDir = workspace + \"geo_json_files\"\n",
    "if not os.path.exists(geoJsonDir): # check if geo_json_files folder already exists\n",
    "    os.makedirs(geoJsonDir) # if not, create one\n",
    "\n",
    "# access each county's shapefile and convert it to a geojson file and store in the geo_json_files folder\n",
    "# each geojson file is named after the county it holds data for.\n",
    "for countyName in allCountyNames:\n",
    "    call([\"C:\\\\OSGeo4W64\\\\bin\\\\ogr2ogr\",\n",
    "      \"-f\",\"GeoJSON\",\"-t_srs\",\"WGS84\",\n",
    "      \"-s_srs\",\"EPSG:\" + str(censusSrCode),\n",
    "      workspace + \"geo_json_files\\\\\" + countyName + \".geojson\",\n",
    "      workspace + \"result\\\\\" + countyName + \"\\\\\" + countyName + \".shp\"])"
   ]
  },
  {
   "cell_type": "markdown",
   "metadata": {
    "collapsed": true
   },
   "source": [
    "## 2. Top 10 Counties by Population"
   ]
  },
  {
   "cell_type": "code",
   "execution_count": 85,
   "metadata": {},
   "outputs": [
    {
     "name": "stdout",
     "output_type": "stream",
     "text": [
      "2017 Top 10 counties by population\n",
      "1. King: 2153700.0\n",
      "2. Pierce: 859400.0\n",
      "3. Snohomish: 789400.0\n",
      "4. Spokane: 499800.0\n",
      "5. Clark: 471000.0\n",
      "6. Thurston: 276900.0\n",
      "7. Kitsap: 264300.0\n",
      "8. Yakima: 253000.0\n",
      "9. Whatcom: 216300.0\n",
      "10. Benton: 193500.0\n"
     ]
    }
   ],
   "source": [
    "# intialize dictionary with counties as the key and 0 population as the value\n",
    "pop2017 = {}\n",
    "pop2017 = pop2017.fromkeys(allCountyNames, 0)\n",
    "\n",
    "# search through census table to sum populations for each county\n",
    "cursor = arcpy.da.SearchCursor(censusShapeF,[\"POP2017\",\"CountyName\"])\n",
    "for row in cursor:\n",
    "    pop2017[row[1]] += row[0] # add population data to corresponding county in dictionary entry\n",
    "del cursor\n",
    "\n",
    "# sort dictionary of counties by population values and place in descending order\n",
    "pop2017Top10 = sorted(pop2017, key=pop2017.get, reverse=True)[0:10] # reverse=True to get desceding order\n",
    "print(\"2017 Top 10 counties by population\")\n",
    "\n",
    "# print numbered list of the top 10 counties and their respective populaiton\n",
    "for i in range(0, 10):\n",
    "    print (str(i + 1) + \". \" + pop2017Top10[i] + \": \" + str(pop2017[pop2017Top10[i]]))"
   ]
  },
  {
   "cell_type": "code",
   "execution_count": null,
   "metadata": {
    "collapsed": true
   },
   "outputs": [],
   "source": []
  }
 ],
 "metadata": {
  "kernelspec": {
   "display_name": "Python 2",
   "language": "python",
   "name": "python2"
  },
  "language_info": {
   "codemirror_mode": {
    "name": "ipython",
    "version": 2
   },
   "file_extension": ".py",
   "mimetype": "text/x-python",
   "name": "python",
   "nbconvert_exporter": "python",
   "pygments_lexer": "ipython2",
   "version": "2.7.14"
  }
 },
 "nbformat": 4,
 "nbformat_minor": 2
}
