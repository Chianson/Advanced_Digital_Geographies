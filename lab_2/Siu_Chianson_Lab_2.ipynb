{
 "cells": [
  {
   "cell_type": "code",
   "execution_count": 5,
   "metadata": {},
   "outputs": [
    {
     "ename": "ImportError",
     "evalue": "No module named arcpy",
     "output_type": "error",
     "traceback": [
      "\u001b[1;31m\u001b[0m",
      "\u001b[1;31mImportError\u001b[0mTraceback (most recent call last)",
      "\u001b[1;32m<ipython-input-5-0228b90416c7>\u001b[0m in \u001b[0;36m<module>\u001b[1;34m()\u001b[0m\n\u001b[0;32m      7\u001b[0m \u001b[1;33m\u001b[0m\u001b[0m\n\u001b[0;32m      8\u001b[0m \u001b[1;31m# import arcpy package and set the working directory\u001b[0m\u001b[1;33m\u001b[0m\u001b[1;33m\u001b[0m\u001b[0m\n\u001b[1;32m----> 9\u001b[1;33m \u001b[1;32mimport\u001b[0m \u001b[0marcpy\u001b[0m\u001b[1;33m\u001b[0m\u001b[0m\n\u001b[0m\u001b[0;32m     10\u001b[0m \u001b[1;33m\u001b[0m\u001b[0m\n\u001b[0;32m     11\u001b[0m \u001b[1;31m# workspace = \"C:\\\\Users\\\\cjms2\\\\geog458\\\\lab_2\\\\\"\u001b[0m\u001b[1;33m\u001b[0m\u001b[1;33m\u001b[0m\u001b[0m\n",
      "\u001b[1;31mImportError\u001b[0m: No module named arcpy"
     ]
    }
   ],
   "source": [
    "# import arcpy package\n",
    "import arcpy"
   ]
  },
  {
   "cell_type": "code",
   "execution_count": 6,
   "metadata": {},
   "outputs": [
    {
     "ename": "NameError",
     "evalue": "name 'arcpy' is not defined",
     "output_type": "error",
     "traceback": [
      "\u001b[1;31m\u001b[0m",
      "\u001b[1;31mNameError\u001b[0mTraceback (most recent call last)",
      "\u001b[1;32m<ipython-input-6-e3e7fdb117dd>\u001b[0m in \u001b[0;36m<module>\u001b[1;34m()\u001b[0m\n\u001b[0;32m      2\u001b[0m \u001b[1;31m# desired shapefile to reclassify\u001b[0m\u001b[1;33m\u001b[0m\u001b[1;33m\u001b[0m\u001b[0m\n\u001b[0;32m      3\u001b[0m \u001b[1;31m# inFile = workspace + \"King\\\\King.shp\"\u001b[0m\u001b[1;33m\u001b[0m\u001b[1;33m\u001b[0m\u001b[0m\n\u001b[1;32m----> 4\u001b[1;33m \u001b[0marcpy\u001b[0m\u001b[1;33m.\u001b[0m\u001b[0mAddMessage\u001b[0m\u001b[1;33m(\u001b[0m\u001b[1;34m\"Test\"\u001b[0m\u001b[1;33m)\u001b[0m\u001b[1;33m\u001b[0m\u001b[0m\n\u001b[0m\u001b[0;32m      5\u001b[0m \u001b[1;33m\u001b[0m\u001b[0m\n\u001b[0;32m      6\u001b[0m \u001b[0morig_shapefile\u001b[0m \u001b[1;33m=\u001b[0m \u001b[0marcpy\u001b[0m\u001b[1;33m.\u001b[0m\u001b[0mGetParameterAsText\u001b[0m\u001b[1;33m(\u001b[0m\u001b[1;36m0\u001b[0m\u001b[1;33m)\u001b[0m\u001b[1;33m\u001b[0m\u001b[0m\n",
      "\u001b[1;31mNameError\u001b[0m: name 'arcpy' is not defined"
     ]
    }
   ],
   "source": [
    "# Input parameters from the client.\n",
    "\n",
    "# desired feature layer to reclassify\n",
    "orig_shapefile = arcpy.GetParameterAsText(0)\n",
    "\n",
    "# desired field in file to reclassify\n",
    "inField = arcpy.GetParameterAsText(1)\n",
    "\n",
    "# desired outfield name\n",
    "outField = arcpy.GetParameterAsText(2)\n",
    "\n",
    "# table to reclass shapefile\n",
    "reclassTable = arcpy.GetParameterAsText(3)\n",
    "\n",
    "# client's default value for inField values outside the range of reclass table\n",
    "notFoundValue = arcpy.GetParameterAsText(4)\n",
    "\n",
    "# path to output feature class\n",
    "outClass = arcpy.GetParameterAsText(5)"
   ]
  },
  {
   "cell_type": "code",
   "execution_count": 3,
   "metadata": {},
   "outputs": [],
   "source": [
    "# create output shapefile from input shapefile\n",
    "arcpy.CopyFeatures_management(orig_shapefile, outClass)"
   ]
  },
  {
   "cell_type": "code",
   "execution_count": 4,
   "metadata": {},
   "outputs": [
    {
     "data": {
      "text/plain": [
       "<Result 'C:\\\\Users\\\\cjms2\\\\geog458\\\\lab_2\\\\result\\\\output.shp'>"
      ]
     },
     "execution_count": 4,
     "metadata": {},
     "output_type": "execute_result"
    }
   ],
   "source": [
    "# add 'outfield' attribute to the output shapefile\n",
    "arcpy.AddField_management(outClass, outField, \"DOUBLE\")"
   ]
  },
  {
   "cell_type": "code",
   "execution_count": 9,
   "metadata": {},
   "outputs": [
    {
     "ename": "NameError",
     "evalue": "name 'arcpy' is not defined",
     "output_type": "error",
     "traceback": [
      "\u001b[1;31m\u001b[0m",
      "\u001b[1;31mNameError\u001b[0mTraceback (most recent call last)",
      "\u001b[1;32m<ipython-input-9-1e6ad6b1423b>\u001b[0m in \u001b[0;36m<module>\u001b[1;34m()\u001b[0m\n\u001b[0;32m      1\u001b[0m \u001b[1;31m# search cursor to search the input shapefile\u001b[0m\u001b[1;33m\u001b[0m\u001b[1;33m\u001b[0m\u001b[0m\n\u001b[1;32m----> 2\u001b[1;33m \u001b[0minFileSearch\u001b[0m \u001b[1;33m=\u001b[0m \u001b[0marcpy\u001b[0m\u001b[1;33m.\u001b[0m\u001b[0mda\u001b[0m\u001b[1;33m.\u001b[0m\u001b[0mSearchCursor\u001b[0m\u001b[1;33m(\u001b[0m\u001b[0morig_shapefile\u001b[0m\u001b[1;33m,\u001b[0m \u001b[0minField\u001b[0m\u001b[1;33m)\u001b[0m\u001b[1;33m\u001b[0m\u001b[0m\n\u001b[0m\u001b[0;32m      3\u001b[0m \u001b[1;31m#inSearch.next() # move search cursor to first row\u001b[0m\u001b[1;33m\u001b[0m\u001b[1;33m\u001b[0m\u001b[0m\n\u001b[0;32m      4\u001b[0m \u001b[0mreclassSearch\u001b[0m \u001b[1;33m=\u001b[0m \u001b[0marcpy\u001b[0m\u001b[1;33m.\u001b[0m\u001b[0mda\u001b[0m\u001b[1;33m.\u001b[0m\u001b[0mSearchCursor\u001b[0m\u001b[1;33m(\u001b[0m\u001b[0mreclassTable\u001b[0m\u001b[1;33m,\u001b[0m \u001b[1;33m[\u001b[0m\u001b[1;34m\"lowerbound\"\u001b[0m\u001b[1;33m,\u001b[0m \u001b[1;34m\"upperbound\"\u001b[0m\u001b[1;33m,\u001b[0m \u001b[1;34m\"value\"\u001b[0m\u001b[1;33m]\u001b[0m\u001b[1;33m)\u001b[0m\u001b[1;33m\u001b[0m\u001b[0m\n\u001b[0;32m      5\u001b[0m \u001b[1;31m# update cursor to update the 'outfield' in the output shapefile with\u001b[0m\u001b[1;33m\u001b[0m\u001b[1;33m\u001b[0m\u001b[0m\n",
      "\u001b[1;31mNameError\u001b[0m: name 'arcpy' is not defined"
     ]
    }
   ],
   "source": [
    "# search cursor to search the input shapefile\n",
    "inFileSearch = arcpy.da.SearchCursor(orig_shapefile, inField)\n",
    "\n",
    "# move search cursor to first row\n",
    "reclassSearch = arcpy.da.SearchCursor(reclassTable, [\"lowerbound\", \"upperbound\", \"value\"])\n",
    "\n",
    "# update cursor to update the 'outfield' in the output shapefile with\n",
    "# either values from the reclass table or notFoundValue from client\n",
    "outUpdate = arcpy.da.UpdateCursor(outClass, outField)\n",
    "\n",
    "# Searche each value of the inField from input shapefile and finds first occurence\n",
    "# where the inField value is within range of the lower and upper bound values from \n",
    "# the reclass table. This test is inclusive of upper and lower values. If the inField \n",
    "# value is within the range, the reclass value from the reclass table is assigned\n",
    "# to the tuple's 'outfield' attribute, else the notFoundValue is assigned.\n",
    "for rowUpdate in outUpdate:\n",
    "    inFileSearch.next() # move search cursor to next row in input shapefile\n",
    "    reclassResult = notFoundValue # default to notFoundValue\n",
    "    \n",
    "    # compares values in the lowerBoundVal and upperBoundVal list to find the\n",
    "    # first occurence where the inField value is within their range.\n",
    "    for reclassRow in reclassSearch:\n",
    "        if((inFileSearch[0] >= reclassRow[0]) & (inFileSearch[0] <= reclassRow[1])):\n",
    "            reclassResult = reclassRow[2] # reassign reclassResult to reclass value\n",
    "            break # first occurence found, exit nested loop\n",
    "    del reclassRow\n",
    "    rowUpdate[0] = reclassResult # set outfield to reclass value\n",
    "    outUpdate.updateRow(rowUpdate) # update tuple with reclassified value or notFoundValue\n",
    "    reclassSearch.reset() # reset reclass search cursor\n",
    "\n",
    "# delete row objects to remove locks\n",
    "del rowUpdate\n",
    "\n",
    "# delete search and update cursors to remove locks\n",
    "del inFileSearch\n",
    "del outUpdate\n",
    "del reclassSearch"
   ]
  },
  {
   "cell_type": "code",
   "execution_count": null,
   "metadata": {
    "collapsed": true
   },
   "outputs": [],
   "source": []
  },
  {
   "cell_type": "code",
   "execution_count": null,
   "metadata": {
    "collapsed": true
   },
   "outputs": [],
   "source": []
  }
 ],
 "metadata": {
  "kernelspec": {
   "display_name": "Python 2",
   "language": "python",
   "name": "python2"
  },
  "language_info": {
   "codemirror_mode": {
    "name": "ipython",
    "version": 2
   },
   "file_extension": ".py",
   "mimetype": "text/x-python",
   "name": "python",
   "nbconvert_exporter": "python",
   "pygments_lexer": "ipython2",
   "version": "2.7.14"
  }
 },
 "nbformat": 4,
 "nbformat_minor": 2
}
