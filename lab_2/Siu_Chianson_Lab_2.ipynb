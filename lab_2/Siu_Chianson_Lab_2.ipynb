{
 "cells": [
  {
   "cell_type": "markdown",
   "metadata": {},
   "source": [
    "# Chianson Siu\n",
    "\n",
    "## Directions\n",
    "Your tool (and thus, geoprocessing service) needs to take the following parameters as inputs from the user, at a minimum:\n",
    "orig_shapefile (to be general, assume this is a feature layer)\n",
    "- infield\n",
    "- outfield\n",
    "- reclasstable\n",
    "- notfoundvalue (a single number--assume it is a double)\n",
    "\n",
    "Note: You can assume that the values in the attribute column of orig_shapefile specified by infield are **doubles** (numbers).\n",
    "Your tool outputs/returns a Feature Class with both the original data from orig_shapefile and a newly added reclassified attribute called outfield whose values are found from the value of infield using the reclasstable (or if that value is not within the ranges of reclasstable, it is reclassified to notfoundvalue.)  "
   ]
  },
  {
   "cell_type": "code",
   "execution_count": 1,
   "metadata": {},
   "outputs": [],
   "source": [
    "# import system paths and append directories to the ArcGIS loaction on local computer\n",
    "import sys\n",
    "import os\n",
    "sys.path.append('C:\\\\Program Files (x86)\\\\ArcGIS\\\\Desktop10.5\\\\bin')\n",
    "sys.path.append('C:\\\\Program Files (x86)\\\\ArcGIS\\\\Desktop10.5\\\\arcpy')\n",
    "sys.path.append('C:\\\\Program Files (x86)\\\\ArcGIS\\\\Desktop10.5\\\\ArcToolbox\\\\Scripts')\n",
    "\n",
    "# import arcpy package and set the working directory\n",
    "import arcpy\n",
    "workspace = \"C:\\\\Users\\\\cjms2\\\\geog458\\\\lab_2\\\\\"\n",
    "arcpy.env.workspace = workspace"
   ]
  },
  {
   "cell_type": "code",
   "execution_count": 2,
   "metadata": {},
   "outputs": [],
   "source": [
    "# Input parameters from the client.\n",
    "# desired shapefile to reclassify\n",
    "inFile = workspace + \"King\\\\King.shp\" \n",
    "\n",
    "# desired field in file to reclassify\n",
    "inField = \"POP2012\" \n",
    "\n",
    "# table to reclass shapefile\n",
    "reclassTable = workspace + \"ReclassTableExample.dbf\" \n",
    "\n",
    "# client's default value for inField values outside the range of reclass table\n",
    "notFoundValue = 0 "
   ]
  },
  {
   "cell_type": "code",
   "execution_count": 3,
   "metadata": {},
   "outputs": [],
   "source": [
    "# intialize empty list of lower bound values from reclass table\n",
    "lowerBoundVal = []\n",
    "\n",
    "# intialize empty list of upper bound values from reclass table\n",
    "upperBoundVal = []\n",
    "\n",
    "# intialize empty list of reclass values from reclass table\n",
    "reclassVal = []"
   ]
  },
  {
   "cell_type": "code",
   "execution_count": 4,
   "metadata": {},
   "outputs": [],
   "source": [
    "# populate each lower bound, uppder bound, and reclass value lists with their\n",
    "# corresponding column values from the reclass table.\n",
    "reclassSearch = arcpy.da.SearchCursor(reclassTable, [\"lowerbound\", \"upperbound\", \"value\"])\n",
    "for row in reclassSearch:\n",
    "    lowerBoundVal.append(row[0])\n",
    "    upperBoundVal.append(row[1])\n",
    "    reclassVal.append(row[2])\n",
    "del row\n",
    "del reclassSearch"
   ]
  },
  {
   "cell_type": "code",
   "execution_count": 5,
   "metadata": {},
   "outputs": [],
   "source": [
    "# create output shapefile from input shapefile\n",
    "outClass = None\n",
    "if(os.path.exists(workspace + \"result\\\\output.shp\")):\n",
    "    outClass = workspace + \"result\\\\output.shp\"\n",
    "else:\n",
    "    outClass = arcpy.CopyFeatures_management(inFile, workspace + \"result\\\\output.shp\")"
   ]
  },
  {
   "cell_type": "code",
   "execution_count": 148,
   "metadata": {},
   "outputs": [
    {
     "data": {
      "text/plain": [
       "<Result 'C:\\\\Users\\\\cjms2\\\\geog458\\\\lab_2\\\\result\\\\output.shp'>"
      ]
     },
     "execution_count": 148,
     "metadata": {},
     "output_type": "execute_result"
    }
   ],
   "source": [
    "# add 'outfield' attribute to the output shapefile\n",
    "arcpy.AddField_management(outClass, \"outfield\", \"DOUBLE\")"
   ]
  },
  {
   "cell_type": "code",
   "execution_count": 6,
   "metadata": {},
   "outputs": [],
   "source": [
    "# checkRange takes a lowerbound value, an uppder bound value, and number to be\n",
    "# compared to each value. Returns true if num is between or equal to the upper\n",
    "# or lower bound, else returns fase. \n",
    "# @param low: double, lower bound of comparison range\n",
    "# @param high: double, upper bound of comparison range\n",
    "# @param num: double, number to compared\n",
    "# @return: boolean result if num is within the range of params 'low' and 'high'\n",
    "def checkRange(low, high, num):\n",
    "    return ((num <= high) & (num >= low))"
   ]
  },
  {
   "cell_type": "code",
   "execution_count": 7,
   "metadata": {},
   "outputs": [],
   "source": [
    "# search cursor to search the input shapefile\n",
    "inFileSearch = arcpy.da.SearchCursor(inFile, inField)\n",
    "#inSearch.next() # move search cursor to first row\n",
    "\n",
    "# update cursor to update the 'outfield' in the output shapefile with\n",
    "# either values from the reclass table or notFoundValue from client\n",
    "outUpdate = arcpy.da.UpdateCursor(outClass, \"outfield\")\n",
    "\n",
    "# searches each value of the inField from input shapefile and checks if it\n",
    "# is within range of the lower and upper bound values from the reclass table.\n",
    "# This test is inclusive of upper and lower values. If the inField value\n",
    "# is within the range, the reclass value from the reclass table is assigned\n",
    "# to the tuple's 'outfield' attribute, else the notFoundValue is assigned.\n",
    "for row in outUpdate:\n",
    "    inSearch.next() # move search cursor to next row in input shapefile\n",
    "    reclassResult = notFoundValue # default to notFoundValue\n",
    "    \n",
    "    # compares values in the lowerBoundVal and upperBoundVal list to find the\n",
    "    # first occurence where the inField value is within their range.\n",
    "    for i in range(0,len(reclassVal)):\n",
    "        if (checkRange(lowerBoundVal[i], upperBoundVal[i], inFileSearch[0]) == True):\n",
    "            reclassResult = reclassVal[i]\n",
    "            break # first occurence found, exit nested loop\n",
    "    row[0] = reclassResult # reclass outfield value\n",
    "    outUpdate.updateRow(row) # update tuple with reclassified value\n",
    "\n",
    "# delete row objects to remove locks\n",
    "del row\n",
    "\n",
    "# delete search and update cursors to remove locks\n",
    "del inSearch\n",
    "del outUpdate"
   ]
  },
  {
   "cell_type": "code",
   "execution_count": 115,
   "metadata": {},
   "outputs": [],
   "source": [
    "temp = [1, 2, 5, 10, 20, 25, 60, 80, 90, 110, 112, 120, 140, 678, 3096]"
   ]
  },
  {
   "cell_type": "code",
   "execution_count": 119,
   "metadata": {},
   "outputs": [],
   "source": [
    "def binarySearch(lowerBounds, num):\n",
    "    midpoint = len(lowerBounds) / 2\n",
    "    \n",
    "#     if(num in lowerBounds): # num is contained in list\n",
    "#         return lowerBounds.index(num)\n",
    "    \n",
    "    if(num >= lowerBounds[len(lowerBounds)-1]): # num is >= largest number in lower bound list\n",
    "        return len(lowerBounds) - 1\n",
    "    \n",
    "    elif(num < lowerBounds[0]): # num is less than smallest number in lower bound list\n",
    "        return -1\n",
    "    \n",
    "    elif(len(lowerBounds) == 2): # num is bounded bewteen the last two numbers in the lower bound list\n",
    "        if(num in lowerBounds): # num is contained in the remaining two numbers\n",
    "            return temp.index(lowerBounds[lowerBounds.index(num)])\n",
    "        else:\n",
    "            return temp.index(lowerBounds[0])\n",
    "    \n",
    "    elif(lowerBounds[midpoint] <= num): # num is >= the value in the middle of the lower bound list\n",
    "        return binarySearch(lowerBounds[midpoint:len(lowerBounds)], num) # recursive call on top half of list\n",
    "    \n",
    "    else: # num is less than the value in the middle of the list\n",
    "        return binarySearch(lowerBounds[0:(midpoint + 1)], num) # recursive call on bottom half of list\n",
    "   \n",
    "        "
   ]
  },
  {
   "cell_type": "code",
   "execution_count": 121,
   "metadata": {},
   "outputs": [
    {
     "name": "stdout",
     "output_type": "stream",
     "text": [
      "13\n"
     ]
    }
   ],
   "source": [
    "print binarySearch(temp, 678)"
   ]
  },
  {
   "cell_type": "code",
   "execution_count": null,
   "metadata": {},
   "outputs": [],
   "source": []
  },
  {
   "cell_type": "code",
   "execution_count": null,
   "metadata": {},
   "outputs": [],
   "source": []
  }
 ],
 "metadata": {
  "kernelspec": {
   "display_name": "Python 2",
   "language": "python",
   "name": "python2"
  },
  "language_info": {
   "codemirror_mode": {
    "name": "ipython",
    "version": 2
   },
   "file_extension": ".py",
   "mimetype": "text/x-python",
   "name": "python",
   "nbconvert_exporter": "python",
   "pygments_lexer": "ipython2",
   "version": "2.7.14"
  }
 },
 "nbformat": 4,
 "nbformat_minor": 2
}
