{
 "cells": [
  {
   "cell_type": "code",
   "execution_count": null,
   "metadata": {},
   "outputs": [],
   "source": [
    "# import arcpy package\n",
    "import arcpy"
   ]
  },
  {
   "cell_type": "code",
   "execution_count": null,
   "metadata": {},
   "outputs": [],
   "source": [
    "# Input parameters from the client.\n",
    "\n",
    "# desired feature layer to reclassify\n",
    "orig_shapefile = arcpy.GetParameterAsText(0)\n",
    "\n",
    "# desired field in file to reclassify\n",
    "inField = arcpy.GetParameterAsText(1)\n",
    "\n",
    "# desired outfield name\n",
    "outField = arcpy.GetParameterAsText(2)\n",
    "\n",
    "# table to reclass shapefile\n",
    "reclassTable = arcpy.GetParameterAsText(3)\n",
    "\n",
    "# client's default value for inField values outside the range of reclass table\n",
    "notFoundValue = arcpy.GetParameterAsText(4)\n",
    "\n",
    "# path to output feature class\n",
    "outClass = arcpy.GetParameterAsText(5)"
   ]
  },
  {
   "cell_type": "code",
   "execution_count": null,
   "metadata": {
    "collapsed": true
   },
   "outputs": [],
   "source": [
    "# create output shapefile from input shapefile\n",
    "arcpy.CopyFeatures_management(orig_shapefile, outClass)"
   ]
  },
  {
   "cell_type": "code",
   "execution_count": null,
   "metadata": {},
   "outputs": [],
   "source": [
    "# add 'outfield' attribute to the output shapefile\n",
    "arcpy.AddField_management(outClass, outField, \"DOUBLE\")"
   ]
  },
  {
   "cell_type": "code",
   "execution_count": null,
   "metadata": {
    "collapsed": true
   },
   "outputs": [],
   "source": [
    "# search cursor to search the input shapefile\n",
    "inFileSearch = arcpy.da.SearchCursor(orig_shapefile, inField)\n",
    "\n",
    "# move search cursor to first row\n",
    "reclassSearch = arcpy.da.SearchCursor(reclassTable, [\"lowerbound\", \"upperbound\", \"value\"])\n",
    "\n",
    "# update cursor to update the 'outfield' in the output shapefile with\n",
    "# either values from the reclass table or notFoundValue from client\n",
    "outUpdate = arcpy.da.UpdateCursor(outClass, outField)\n",
    "\n",
    "# Searche each value of the inField from input shapefile and finds first occurence\n",
    "# where the inField value is within range of the lower and upper bound values from \n",
    "# the reclass table. This test is inclusive of upper and lower values. If the inField \n",
    "# value is within the range, the reclass value from the reclass table is assigned\n",
    "# to the tuple's 'outfield' attribute, else the notFoundValue is assigned.\n",
    "for rowUpdate in outUpdate:\n",
    "    inFileSearch.next() # move search cursor to next row in input shapefile\n",
    "    reclassResult = notFoundValue # default to notFoundValue\n",
    "    \n",
    "    # compares values in the lowerBoundVal and upperBoundVal list to find the\n",
    "    # first occurence where the inField value is within their range.\n",
    "    for reclassRow in reclassSearch:\n",
    "        if((inFileSearch[0] >= reclassRow[0]) & (inFileSearch[0] <= reclassRow[1])):\n",
    "            reclassResult = reclassRow[2] # reassign reclassResult to reclass value\n",
    "            break # first occurence found, exit nested loop\n",
    "    del reclassRow\n",
    "    rowUpdate[0] = reclassResult # set outfield to reclass value\n",
    "    outUpdate.updateRow(rowUpdate) # update tuple with reclassified value or notFoundValue\n",
    "    reclassSearch.reset() # reset reclass search cursor\n",
    "\n",
    "# delete row objects to remove locks\n",
    "del rowUpdate\n",
    "\n",
    "# delete search and update cursors to remove locks\n",
    "del inFileSearch\n",
    "del outUpdate\n",
    "del reclassSearch"
   ]
  }
 ],
 "metadata": {
  "kernelspec": {
   "display_name": "Python 2",
   "language": "python",
   "name": "python2"
  },
  "language_info": {
   "codemirror_mode": {
    "name": "ipython",
    "version": 2
   },
   "file_extension": ".py",
   "mimetype": "text/x-python",
   "name": "python",
   "nbconvert_exporter": "python",
   "pygments_lexer": "ipython2",
   "version": "2.7.13"
  }
 },
 "nbformat": 4,
 "nbformat_minor": 2
}
