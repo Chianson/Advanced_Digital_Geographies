{
 "cells": [
  {
   "cell_type": "code",
   "execution_count": null,
   "metadata": {},
   "outputs": [],
   "source": [
    "# import packages and set the working directory\n",
    "import urllib2\n",
    "import urllib\n",
    "import requests\n",
    "import lxml\n",
    "from lxml import html\n",
    "import geopandas\n",
    "import folium\n",
    "import os\n",
    "import shapely\n",
    "import shapely.geometry\n",
    "import fiona\n",
    "import fiona.crs\n",
    "workspace = \"geog458\\\\lab_3\\\\\""
   ]
  },
  {
   "cell_type": "code",
   "execution_count": null,
   "metadata": {},
   "outputs": [],
   "source": [
    "# Function for saving an html page to a local file\n",
    "def saveHtml(link, fileName):\n",
    "    u = urllib2.urlopen(link)\n",
    "    filePath = os.path.abspath(fileName + \".html\")\n",
    "    localFile = open(filePath, \"w\")\n",
    "    localFile.write(u.read())\n",
    "    localFile.close()\n",
    "    print(filePath)\n",
    "    return filePath"
   ]
  },
  {
   "cell_type": "code",
   "execution_count": null,
   "metadata": {},
   "outputs": [],
   "source": [
    "# Save an html page containing addresses of homeless shelters / homes\n",
    "homelessPath = saveHtml(\"https://www.kingcounty.gov/depts/community-human-services/housing/services/homeless-housing/coordinated-entry/access-points.aspx\", \"homless_shelter_data\")"
   ]
  },
  {
   "cell_type": "code",
   "execution_count": null,
   "metadata": {},
   "outputs": [],
   "source": [
    "# Reads the local html file\n",
    "homelessText = urllib2.urlopen(\"file:///\" + homelessPath).read()"
   ]
  },
  {
   "cell_type": "code",
   "execution_count": null,
   "metadata": {
    "scrolled": true
   },
   "outputs": [],
   "source": [
    "# Set the root of the html tree for parsing\n",
    "homelessRoot = html.document_fromstring(homelessText)"
   ]
  },
  {
   "cell_type": "code",
   "execution_count": null,
   "metadata": {},
   "outputs": [],
   "source": [
    "# Get the panels containing homeless addresses and names\n",
    "homelessPanels = homelessRoot.find_class(\"panel-accordion-primary\")\n",
    "# veteran's text has a different text structure than the other panels.\n",
    "veteranHome = homelessPanels[5] # verteran's panel stored in index 5\n",
    "del homelessPanels[5] # remove veteran's panel "
   ]
  },
  {
   "cell_type": "code",
   "execution_count": null,
   "metadata": {},
   "outputs": [],
   "source": [
    "homelessAddress = [] # empty list to hold homeless shelter addresses\n",
    "homelessTitle = [] # empty list to hold homeless shelter names\n",
    "\n",
    "# Scans the panel body for homeless addresses and names. \n",
    "# Appends the results to the appropriate list\n",
    "for i in range(0,len(homelessPanels)):\n",
    "    panelBody = homelessPanels[i].find_class(\"panel-body\")\n",
    "    panelLink = panelBody[0].cssselect(\"a\") # addresses stored in anchor tags\n",
    "    panelTitle = panelBody[0].cssselect(\"strong\") # names stored in strong tags\n",
    "\n",
    "    for link in panelLink:\n",
    "        panelAddress = link.text_content().strip() # remove extra spaces\n",
    "        homelessAddress.append(panelAddress.encode(\"utf-8\")) # add address to address list\n",
    "    \n",
    "    for title in panelTitle:\n",
    "        thisTitle = title.text_content().strip() # remove extra spaces\n",
    "        homelessTitle.append(thisTitle.encode(\"utf-8\")) # add names to names list\n",
    "\n",
    "# cleanse the addresses for inconsistencies\n",
    "del homelessAddress[len(homelessAddress)-4:len(homelessAddress)] # last 4 indices do not have addresses\n",
    "del homelessAddress[9] # index 9 contains an email\n",
    "homelessAddress[5] = homelessAddress[5] + homelessAddress[6] # complete address was split between index 5 and 6\n",
    "del homelessAddress[6] # index 6 only contains half an address\n",
    "del homelessAddress[15] # index 15 contains an blank string \"\"\n",
    "\n",
    "# append the veteran's homeless clinic name and address\n",
    "vetHome = veteranHome.cssselect(\"p\")[5].text_content()\n",
    "homelessAddress.append(vetHome[len(vetHome)-43:len(vetHome)]) # address contained in last 43 indexes\n",
    "homelessTitle.append(vetHome[0:len(vetHome)-45]) # name contained in length of text minus 45 indexes"
   ]
  },
  {
   "cell_type": "code",
   "execution_count": null,
   "metadata": {},
   "outputs": [],
   "source": [
    "# list of indices within the names list that do not contain names\n",
    "indices = [1, 2, 3, 5, 6, 7, 9, 10, 11, 13, 14, 15, 18, 19, 20, 21, 22, 23, 26, 28, 29, 30, 31, 32, 37, 42]\n",
    "\n",
    "# cleanse names list by removing indices that do not contain names\n",
    "for i in sorted(indices, reverse = True):\n",
    "    del homelessTitle[i]\n",
    "homelessTitle[4] = homelessTitle[4] + homelessTitle[5] # full name split between index 4 and 5\n",
    "homelessTitle[6] = homelessTitle[6] + \" \" + homelessTitle[7] # full name split between index 6 and 7\n",
    "\n",
    "# delete index 7 and 5 after concatenation\n",
    "del homelessTitle[7]\n",
    "del homelessTitle[5]\n"
   ]
  },
  {
   "cell_type": "code",
   "execution_count": null,
   "metadata": {},
   "outputs": [],
   "source": [
    "# function to making a get request to LocationIQ api to geoencode addresses\n",
    "# takes one address as the desired search string parameter and returns\n",
    "# the get request response\n",
    "def getLocation(searchString):\n",
    "    \n",
    "    geocodingApiKey = \"9af8ae63239de6\" # my API key\n",
    "    url = \"https://us1.locationiq.org/v1/search.php\" # base website\n",
    "    geoformat = \"json\" # desired return format\n",
    "    \n",
    "    # contstructing the URL for the get request\n",
    "    url = (url + \"?key=\" + urllib.quote(geocodingApiKey) + \n",
    "              \"&q=\" + urllib.quote(searchString[0:len(searchString)]) + \n",
    "              \"&format=\" + urllib.quote(geoformat))\n",
    "    response = requests.get(url) # performing get request\n",
    "    return (response) # return request response"
   ]
  },
  {
   "cell_type": "code",
   "execution_count": null,
   "metadata": {},
   "outputs": [],
   "source": [
    "import json\n",
    "import time\n",
    "homelessData = []\n",
    "homelessAddressEmpty = []\n",
    "\n",
    "# performs a get request for each address in the homeless address list.\n",
    "# appends the [name, address, lat, lon, geometry point] to the homeless\n",
    "# data list. If a request returns an empty response, stores the index\n",
    "# in the homelessAddressEmpty list to be cleanses later\n",
    "for i in range(0, len(homelessAddress)):\n",
    "    searchString = homelessAddress[i] # address\n",
    "    response = getLocation(searchString) # get request for each address\n",
    "    time.sleep(1) # delay each request\n",
    "    \n",
    "    # If an empty response is returned, tries get request one more time\n",
    "    # without the ending zip code\n",
    "    if (response.status_code == 404): # empty json returned\n",
    "        searchString = searchString[0: len(searchString)-6] # remove zip code\n",
    "        response = getLocation(searchString)\n",
    "    \n",
    "    # appends the name, addres, lat, lon, geometry to homeless data list\n",
    "    # if the response returned a valid output with longitude and latitude\n",
    "    # data\n",
    "    if (response.status_code != 500) & (response.status_code != 404):\n",
    "        jsonAsDict = json.loads(response.text)[0]\n",
    "        # encodes the lat and lon as coordinate point for the geometry column\n",
    "        coordinateTuple = [float(jsonAsDict[\"lat\"].encode(\"utf-8\")), float(jsonAsDict[\"lon\"].encode(\"utf-8\"))]\n",
    "        homelessData.append([homelessTitle[i], \n",
    "                             homelessAddress[i], \n",
    "                             float(jsonAsDict[\"lat\"].encode(\"utf-8\")), \n",
    "                             float(jsonAsDict[\"lon\"].encode(\"utf-8\")),\n",
    "                             shapely.geometry.Point(coordinateTuple)])\n",
    "    else: # appends index of failed request to be cleansed\n",
    "        homelessAddressEmpty.append(i)"
   ]
  },
  {
   "cell_type": "code",
   "execution_count": null,
   "metadata": {},
   "outputs": [],
   "source": [
    "# cleanses the failed get request by replacing them with hard coded\n",
    "# addresses that were tested and returned a proper output\n",
    "homelessAddressFix = [] # list to hold fixed addresses\n",
    "homelessAddressFix.append(\"11061 NE 2nd St. Bellevue, King County\")\n",
    "homelessAddressFix.append(\"11920 NE 80th St. Kirkland, King County\")\n",
    "homelessAddressFix.append(\"2709 3rd Ave. Seattle. King County\")\n",
    "homelessAddressFix.append(\"16225 NE 87th Street. Redmond, King County\")\n",
    "homelessAddressFix.append(\"419 S 2nd Street #2. Renton, King County\")\n",
    "\n",
    "# index 2 was not able to return a proper response. Without the proper\n",
    "# geocoding, this index was removed. In this case, it would be the\n",
    "# Therapeutic Health Services located at \n",
    "# 1901 Martin Luther King Jr. Way S, Seattle, WA 98144\n",
    "del homelessAddressEmpty[2]\n"
   ]
  },
  {
   "cell_type": "code",
   "execution_count": null,
   "metadata": {},
   "outputs": [],
   "source": [
    "# Repeats get requests for the fixed addresses and appends\n",
    "# the data appropriately to the end of the homeless data\n",
    "# list\n",
    "for i in range(0, len(homelessAddressFix)):\n",
    "    response = getLocation(homelessAddressFix[i])\n",
    "    jsonAsDict = json.loads(response.text)[0]\n",
    "    index = homelessAddressEmpty[i] # get the correct index of the name and address for this response\n",
    "    coordinateTuple = [float(jsonAsDict[\"lat\"].encode(\"utf-8\")), float(jsonAsDict[\"lon\"].encode(\"utf-8\"))]\n",
    "    homelessData.append([homelessTitle[index], \n",
    "                         homelessAddress[index], \n",
    "                         float(jsonAsDict[\"lat\"].encode(\"utf-8\")), \n",
    "                         float(jsonAsDict[\"lon\"].encode(\"utf-8\")),\n",
    "                         shapely.geometry.Point(coordinateTuple)])"
   ]
  },
  {
   "cell_type": "code",
   "execution_count": null,
   "metadata": {},
   "outputs": [],
   "source": [
    "# Add column name and convert data to a GeoDataFrame\n",
    "geopandas_df = geopandas.GeoDataFrame(homelessData, columns=['name','address', \"lat\", \"long\", \"geometry\"])\n",
    "geopandas_df"
   ]
  },
  {
   "cell_type": "code",
   "execution_count": null,
   "metadata": {},
   "outputs": [],
   "source": [
    "# Get the location information for King County since that is where \n",
    "# the homeless shelters are located\n",
    "response = getLocation(\"King County\")\n",
    "jsonAsDict = json.loads(response.text)[0]\n",
    "kingCountyData = [float(jsonAsDict[\"lat\"]), float(jsonAsDict[\"lon\"])]"
   ]
  },
  {
   "cell_type": "code",
   "execution_count": null,
   "metadata": {
    "scrolled": true
   },
   "outputs": [],
   "source": [
    "# create a folium map out of the homeless shelter data,\n",
    "# using the King County coordinates for the center\n",
    "map_center_lat = kingCountyData[0]\n",
    "map_center_lon = kingCountyData[1]\n",
    "map_zoom = float(10)\n",
    "my_map = folium.Map(location=[map_center_lat,map_center_lon],\n",
    "                    zoom_start=map_zoom,\n",
    "                    tiles=\"Stamen Toner\")\n",
    "geopandas_df.crs = fiona.crs.from_epsg(4326) # set the reference system\n",
    "points = folium.features.GeoJson(geopandas_df.to_json())\n",
    "my_map.add_child(points)\n",
    "my_map.save(\"homelessShelterMap.html\") # save the map to a local file"
   ]
  },
  {
   "cell_type": "code",
   "execution_count": null,
   "metadata": {},
   "outputs": [],
   "source": [
    "# save the GeoDataFrame to a shapefile\n",
    "geopandas_df.to_file(\"homelessData.shp\", driver = \"ESRI Shapefile\")"
   ]
  },
  {
   "cell_type": "code",
   "execution_count": null,
   "metadata": {},
   "outputs": [],
   "source": []
  }
 ],
 "metadata": {
  "kernelspec": {
   "display_name": "Python 2",
   "language": "python",
   "name": "python2"
  },
  "language_info": {
   "codemirror_mode": {
    "name": "ipython",
    "version": 2
   },
   "file_extension": ".py",
   "mimetype": "text/x-python",
   "name": "python",
   "nbconvert_exporter": "python",
   "pygments_lexer": "ipython2",
   "version": "2.7.14"
  }
 },
 "nbformat": 4,
 "nbformat_minor": 2
}
