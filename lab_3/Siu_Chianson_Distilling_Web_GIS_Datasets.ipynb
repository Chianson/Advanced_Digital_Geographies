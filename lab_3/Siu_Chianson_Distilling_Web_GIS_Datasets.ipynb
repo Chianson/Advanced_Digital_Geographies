{
 "cells": [
  {
   "cell_type": "code",
   "execution_count": 1,
   "metadata": {},
   "outputs": [],
   "source": [
    "from bs4 import BeautifulSoup\n",
    "import urllib2\n",
    "import lxml\n",
    "from lxml import html\n",
    "import geopandas\n",
    "import folium\n",
    "%matplotlib inline\n",
    "import os\n",
    "workspace = \"geog458\\\\lab_3\\\\\""
   ]
  },
  {
   "cell_type": "code",
   "execution_count": 2,
   "metadata": {},
   "outputs": [],
   "source": [
    "def saveHtml(link, fileName):\n",
    "    u = urllib2.urlopen(link)\n",
    "    filePath = os.path.abspath(fileName + \".html\")\n",
    "    localFile = open(filePath, 'w')\n",
    "    localFile.write(u.read())\n",
    "    localFile.close()\n",
    "    return filePath"
   ]
  },
  {
   "cell_type": "code",
   "execution_count": 3,
   "metadata": {},
   "outputs": [],
   "source": [
    "foodBankPath = saveHtml(\"http://www.needhelppayingbills.com/html/king_county_food_pantries.html\",\"food_bank_data\")\n",
    "homelessPath = saveHtml(\"https://www.kingcounty.gov/depts/community-human-services/housing/services/homeless-housing/coordinated-entry/access-points.aspx\", \"homless_shelter_data\")"
   ]
  },
  {
   "cell_type": "code",
   "execution_count": 12,
   "metadata": {},
   "outputs": [],
   "source": [
    "# Reads the local html file\n",
    "foodBankText = urllib2.urlopen(\"file:///\" + foodBankPath).read()\n",
    "homelessText = urllib2.urlopen(\"file:///\" + homelessPath).read()"
   ]
  },
  {
   "cell_type": "code",
   "execution_count": 13,
   "metadata": {},
   "outputs": [],
   "source": [
    "homelessSoup = BeautifulSoup(homelessText, \"html.parser\")\n",
    "foodBankSoup = BeautifulSoup(foodBankText, \"html.parser\")"
   ]
  },
  {
   "cell_type": "code",
   "execution_count": 27,
   "metadata": {},
   "outputs": [
    {
     "data": {
      "text/plain": [
       "<div class=\"panel panel-accordion-primary\">\\n<div class=\"panel-heading\" id=\"headingC5A5C198CBAB46DC8341BD61197F857C\" role=\"tab\">\\n<h4 class=\"panel-title\">\\n<a aria-controls=\"collapseC5A5C198CBAB46DC8341BD61197F857C\" aria-expanded=\"false\" class=\"collapsed\" data-parent=\"#251C7DB8BB244ED58C7A953FD72C9B74\" data-toggle=\"collapse\" href=\"#collapseC5A5C198CBAB46DC8341BD61197F857C\">\\r\\r\\n                                Seattle\\r\\r\\n                                <span class=\"fa fa-plus pull-right\"></span>\\n</a>\\n</h4>\\n</div>\\n<div aria-labelledby=\"headingC5A5C198CBAB46DC8341BD61197F857C\" class=\"panel-collapse collapse\" id=\"collapseC5A5C198CBAB46DC8341BD61197F857C\" role=\"tabpanel\">\\n<div class=\"panel-body\">\\n<p><strong>Catholic Community Services - Seattle</strong><br/>\\n<a href=\"https://www.google.com/maps/place/100+23rd+Ave+S,+Seattle,+WA+98144/@47.6011837,-122.3038823,17z/data=!3m1!4b1!4m5!3m4!1s0x54906ae9d3df4ce5:0x5663c955e5f9aeef!8m2!3d47.6011837!4d-122.3016936\" target=\"_blank\">100 23rd Ave. S., Seattle, WA 98144</a><br/>\\n<span>(206)328-5900</span></p>\\n<p>Hours of Operation: Monday \\u2013 Friday 9:00 a.m. - 5:00 p.m. Evenings and weekend hours by appointment only.</p>\\n<p>\\r\\nWalk-In Hours:\\xa0Thursdays 9:00 a.m. - 12:00 p.m.</p>\\n<p><strong>To schedule an appointment for a CEA Housing Triage Tool evaluation at this site, call 211.</strong></p>\\n<p style=\"margin: 0in 0in 0pt;\">Please note: Due to demand it\\u2019s possible that not all households that seek a walk-in evaluation will be able to be accommodated at the time of walk-in. </p>\\n<p><strong></strong></p>\\n</div>\\n</div>\\n</div>"
      ]
     },
     "execution_count": 27,
     "metadata": {},
     "output_type": "execute_result"
    }
   ],
   "source": [
    "panelGroup2 = homelessSoup.findAll(\"div\", {\"class\": \"panel panel-accordion-primary\"})\n",
    "panelGroup2[0]"
   ]
  },
  {
   "cell_type": "code",
   "execution_count": null,
   "metadata": {},
   "outputs": [],
   "source": []
  }
 ],
 "metadata": {
  "kernelspec": {
   "display_name": "Python 2",
   "language": "python",
   "name": "python2"
  },
  "language_info": {
   "codemirror_mode": {
    "name": "ipython",
    "version": 2
   },
   "file_extension": ".py",
   "mimetype": "text/x-python",
   "name": "python",
   "nbconvert_exporter": "python",
   "pygments_lexer": "ipython2",
   "version": "2.7.14"
  }
 },
 "nbformat": 4,
 "nbformat_minor": 2
}
